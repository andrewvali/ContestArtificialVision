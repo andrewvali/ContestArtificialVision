{
  "nbformat": 4,
  "nbformat_minor": 0,
  "metadata": {
    "colab": {
      "name": "Resnet50.ipynb",
      "provenance": [],
      "collapsed_sections": []
    },
    "kernelspec": {
      "display_name": "Python 3",
      "name": "python3"
    },
    "accelerator": "GPU"
  },
  "cells": [
    {
      "cell_type": "markdown",
      "metadata": {
        "id": "0vz4nMDemKs8"
      },
      "source": [
        "--------------------------------------------------------------------\r\n",
        "# Contest Artificial Vision \r\n",
        "\r\n",
        "Group 27 - Matricola\r\n",
        "\r\n",
        "*   Gargiulo Michele: 0612701137\r\n",
        "*   Marchesano Riccardo: 0612701198\r\n",
        "*   Sabini Pietro: 0622701112 \r\n",
        "*   Valitutto Andrea: 0622701366\r\n",
        "\r\n",
        "--------------------------------------------------------------------\r\n",
        "\r\n",
        "\r\n"
      ]
    },
    {
      "cell_type": "markdown",
      "metadata": {
        "id": "jKSaEWFimVku"
      },
      "source": [
        "# Training Preparation"
      ]
    },
    {
      "cell_type": "code",
      "metadata": {
        "id": "5bXS1ZHAbKog",
        "colab": {
          "base_uri": "https://localhost:8080/"
        },
        "outputId": "7fd15d08-d14f-40db-dd04-a9d5f8202937"
      },
      "source": [
        "from google.colab import drive\r\n",
        "drive.mount('/content/drive', force_remount=True)\r\n"
      ],
      "execution_count": null,
      "outputs": [
        {
          "output_type": "stream",
          "text": [
            "Mounted at /content/drive\n"
          ],
          "name": "stdout"
        }
      ]
    },
    {
      "cell_type": "code",
      "metadata": {
        "id": "bAieVTbYDD4Z"
      },
      "source": [
        "import os\r\n",
        "os.chdir('/content/')"
      ],
      "execution_count": null,
      "outputs": []
    },
    {
      "cell_type": "code",
      "metadata": {
        "colab": {
          "base_uri": "https://localhost:8080/"
        },
        "id": "W1OOpDyV7PAB",
        "outputId": "e34efb02-bb9b-4415-ec36-111dbefa40ea"
      },
      "source": [
        "# Installazione TensorFlow Object Detection API \r\n",
        "%tensorflow_version 2.x\r\n",
        "import tensorflow as tf\r\n",
        "\r\n",
        "device_name = tf.test.gpu_device_name()\r\n",
        "# testiamo se siamo effettivamente siamo su una GPU e qual è la versione corrente di tensorflow (se >=2.0)\r\n",
        "if device_name != '/device:GPU:0':\r\n",
        "   raise SystemError('GPU device not found')\r\n",
        "print('Found GPU at: {}'.format(device_name))\r\n",
        "print(tf.__version__)"
      ],
      "execution_count": null,
      "outputs": [
        {
          "output_type": "stream",
          "text": [
            "Found GPU at: /device:GPU:0\n",
            "2.4.0\n"
          ],
          "name": "stdout"
        }
      ]
    },
    {
      "cell_type": "code",
      "metadata": {
        "colab": {
          "base_uri": "https://localhost:8080/"
        },
        "id": "x0WnXb1PImFN",
        "outputId": "32fa1912-def2-471e-bf8f-06da6202375b"
      },
      "source": [
        "cd drive/MyDrive/Contest\\ Artificial\\ Vision"
      ],
      "execution_count": null,
      "outputs": [
        {
          "output_type": "stream",
          "text": [
            "/content/drive/MyDrive/Contest Artificial Vision\n"
          ],
          "name": "stdout"
        }
      ]
    },
    {
      "cell_type": "markdown",
      "metadata": {
        "id": "g119h06yVkjF"
      },
      "source": [
        "Download mivia's repository in your folder"
      ]
    },
    {
      "cell_type": "code",
      "metadata": {
        "colab": {
          "base_uri": "https://localhost:8080/"
        },
        "id": "fjvoRd0x7Y9s",
        "outputId": "5d932e88-c6ad-433e-9f42-8577ceeb6844"
      },
      "source": [
        "!git clone https://github.com/MiviaLab/GenderRecognitionFramework.git"
      ],
      "execution_count": null,
      "outputs": [
        {
          "output_type": "stream",
          "text": [
            "Cloning into 'GenderRecognitionFramework'...\n",
            "remote: Enumerating objects: 219, done.\u001b[K\n",
            "remote: Counting objects: 100% (219/219), done.\u001b[K\n",
            "remote: Compressing objects: 100% (174/174), done.\u001b[K\n",
            "remote: Total 219 (delta 38), reused 202 (delta 30), pack-reused 0\u001b[K\n",
            "Receiving objects: 100% (219/219), 9.01 MiB | 21.61 MiB/s, done.\n",
            "Resolving deltas: 100% (38/38), done.\n",
            "Checking out files: 100% (165/165), done.\n"
          ],
          "name": "stdout"
        }
      ]
    },
    {
      "cell_type": "markdown",
      "metadata": {
        "id": "wRDAOA53Vse4"
      },
      "source": [
        "Create folders where train and validation will extracted"
      ]
    },
    {
      "cell_type": "code",
      "metadata": {
        "colab": {
          "base_uri": "https://localhost:8080/"
        },
        "id": "BwpTh6bR-Xtt",
        "outputId": "6c68a25b-7db2-40ae-dcaf-f08dfc839ff3"
      },
      "source": [
        "# Get utilities\r\n",
        "%mkdir /content/Age_Estimation/\r\n",
        "%cd '/content/Age_Estimation/'"
      ],
      "execution_count": null,
      "outputs": [
        {
          "output_type": "stream",
          "text": [
            "/content/Age_Estimation\n"
          ],
          "name": "stdout"
        }
      ]
    },
    {
      "cell_type": "markdown",
      "metadata": {
        "id": "3UugnIPTV1n6"
      },
      "source": [
        "Move in the folder where train and validation are stored"
      ]
    },
    {
      "cell_type": "code",
      "metadata": {
        "id": "usveV4DcXV0A"
      },
      "source": [
        "cd \"/content/drive/MyDrive/Contest Artificial Vision/Dataset/\""
      ],
      "execution_count": null,
      "outputs": []
    },
    {
      "cell_type": "code",
      "metadata": {
        "id": "qj8rmTRdnP1S"
      },
      "source": [
        "ls"
      ],
      "execution_count": null,
      "outputs": []
    },
    {
      "cell_type": "markdown",
      "metadata": {
        "id": "qIXiFZmWV8Sn"
      },
      "source": [
        "Extract training "
      ]
    },
    {
      "cell_type": "code",
      "metadata": {
        "id": "Zi0veJebBNDQ"
      },
      "source": [
        "# Extraction of the dataset [TRAIN]\r\n",
        "PATH_TO_TAR = \"/content/drive/MyDrive/Contest Artificial Vision/Dataset/train.tar\"\r\n",
        "PATH_TO_UNZIP_FILES = \"/content/Age_Estimation\"\r\n",
        "!tar -xvf train.tar -C $PATH_TO_UNZIP_FILES #Add -v for verbose (showing output)"
      ],
      "execution_count": null,
      "outputs": []
    },
    {
      "cell_type": "markdown",
      "metadata": {
        "id": "XPKXQxsgV_U1"
      },
      "source": [
        "Extract validation"
      ]
    },
    {
      "cell_type": "code",
      "metadata": {
        "id": "LoUvX_v_EBf1"
      },
      "source": [
        "# Extraction of the dataset [VALIDATION]\r\n",
        "PATH_TO_TAR = \"/content/drive/MyDrive/Contest Artificial Vision/Dataset/val.tar\"\r\n",
        "PATH_TO_UNZIP_FILES = \"/content/Age_Estimation\"\r\n",
        "!tar -xvf val.tar -C $PATH_TO_UNZIP_FILES #Add -v for verbose (showing output)"
      ],
      "execution_count": null,
      "outputs": []
    },
    {
      "cell_type": "markdown",
      "metadata": {
        "id": "hY7WR3OtWCJ1"
      },
      "source": [
        "Install keras_applications library to use vggface2 weights"
      ]
    },
    {
      "cell_type": "code",
      "metadata": {
        "id": "Shs2SVlXgkCw"
      },
      "source": [
        "pip install keras_applications"
      ],
      "execution_count": null,
      "outputs": []
    },
    {
      "cell_type": "code",
      "metadata": {
        "id": "x9ZtHxCLsUpu"
      },
      "source": [
        "cd /content/drive/MyDrive/Contest\\ Artificial\\ Vision"
      ],
      "execution_count": null,
      "outputs": []
    },
    {
      "cell_type": "markdown",
      "metadata": {
        "id": "ruO8IDZIWJtg"
      },
      "source": [
        "Move in training folder of Gender Recognition Framework"
      ]
    },
    {
      "cell_type": "code",
      "metadata": {
        "id": "18v9gFOKNRBf"
      },
      "source": [
        "%cd GenderRecognitionFramework/training/"
      ],
      "execution_count": null,
      "outputs": []
    },
    {
      "cell_type": "markdown",
      "metadata": {
        "id": "n1g8_alglqLA"
      },
      "source": [
        "# Launch training file"
      ]
    },
    {
      "cell_type": "code",
      "metadata": {
        "id": "LPCPDT38BtqA"
      },
      "source": [
        "# Launch the training\r\n",
        "!python3 train_AgeEstimation.py --net vgg16 --dataset vggface2_gender --pretraining vggface2 --preprocessing vggface2 --augmentation vggface2 --resume True --lr 0.005 --batch 128 --training-epochs 50"
      ],
      "execution_count": null,
      "outputs": []
    },
    {
      "cell_type": "markdown",
      "metadata": {
        "id": "JKQbDTb-l4Rw"
      },
      "source": [
        "# Test network"
      ]
    },
    {
      "cell_type": "code",
      "metadata": {
        "id": "QcNaT17xNeg0"
      },
      "source": [
        "cd drive/MyDrive/Contest\\ Artificial\\ Vision/Dataset"
      ],
      "execution_count": null,
      "outputs": []
    },
    {
      "cell_type": "code",
      "metadata": {
        "id": "4Cfe_DAKNlIE"
      },
      "source": [
        "mkdir /content/Age_Estimation"
      ],
      "execution_count": null,
      "outputs": []
    },
    {
      "cell_type": "code",
      "metadata": {
        "id": "3myPNRdOmD6I"
      },
      "source": [
        "Extract Test folder"
      ],
      "execution_count": null,
      "outputs": []
    },
    {
      "cell_type": "code",
      "metadata": {
        "id": "C51EyVgHNts0"
      },
      "source": [
        "# Extraction of the dataset [Test]\r\n",
        "PATH_TO_TAR = \"/content/drive/MyDrive/Contest Artificial Vision/Dataset/val.tar\"\r\n",
        "PATH_TO_UNZIP_FILES = \"/content/Age_Estimation\"\r\n",
        "!tar -xvf test.tar -C $PATH_TO_UNZIP_FILES #Add -v for verbose (showing output)"
      ],
      "execution_count": null,
      "outputs": []
    },
    {
      "cell_type": "code",
      "metadata": {
        "id": "eDmhWw3ZOKlO"
      },
      "source": [
        "!pip install keras_applications"
      ],
      "execution_count": null,
      "outputs": []
    },
    {
      "cell_type": "code",
      "metadata": {
        "id": "vIOyqSwZOPAv"
      },
      "source": [
        "!pip install keras_vggface"
      ],
      "execution_count": null,
      "outputs": []
    },
    {
      "cell_type": "code",
      "metadata": {
        "id": "pDd0CGZBOVIn"
      },
      "source": [
        "cd /content/drive/MyDrive/Contest\\ Artificial\\ Vision/GenderRecognitionFramework/training"
      ],
      "execution_count": null,
      "outputs": []
    },
    {
      "cell_type": "markdown",
      "metadata": {
        "id": "FGfxCCG-l_al"
      },
      "source": [
        "Launch test.py file"
      ]
    },
    {
      "cell_type": "code",
      "metadata": {
        "id": "qqbUupGuNbjX"
      },
      "source": [
        "!python3 test.py --inputCSV /content/drive/MyDrive/Contest\\ Artificial\\ Vision/annotations/test.detected.csv --testFolder /content/Age_Estimation/test/"
      ],
      "execution_count": null,
      "outputs": []
    }
  ]
}